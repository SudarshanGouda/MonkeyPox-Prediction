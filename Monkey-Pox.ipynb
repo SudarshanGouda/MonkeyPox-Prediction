{
 "cells": [
  {
   "cell_type": "markdown",
   "id": "20930cb1",
   "metadata": {},
   "source": [
    "# Monkey-Pox"
   ]
  },
  {
   "cell_type": "code",
   "execution_count": 21,
   "id": "628f9ff0",
   "metadata": {},
   "outputs": [],
   "source": [
    "import numpy as np\n",
    "import pandas as pd \n",
    "import matplotlib.pyplot as plt\n",
    "import seaborn as sns\n",
    "import warnings\n",
    "warnings.filterwarnings('ignore')"
   ]
  },
  {
   "cell_type": "markdown",
   "id": "eb6d7ad0",
   "metadata": {},
   "source": [
    "## Data"
   ]
  },
  {
   "cell_type": "code",
   "execution_count": 22,
   "id": "c57719e9",
   "metadata": {},
   "outputs": [
    {
     "data": {
      "text/html": [
       "<div>\n",
       "<style scoped>\n",
       "    .dataframe tbody tr th:only-of-type {\n",
       "        vertical-align: middle;\n",
       "    }\n",
       "\n",
       "    .dataframe tbody tr th {\n",
       "        vertical-align: top;\n",
       "    }\n",
       "\n",
       "    .dataframe thead th {\n",
       "        text-align: right;\n",
       "    }\n",
       "</style>\n",
       "<table border=\"1\" class=\"dataframe\">\n",
       "  <thead>\n",
       "    <tr style=\"text-align: right;\">\n",
       "      <th></th>\n",
       "      <th>Patient_ID</th>\n",
       "      <th>Systemic Illness</th>\n",
       "      <th>Rectal Pain</th>\n",
       "      <th>Sore Throat</th>\n",
       "      <th>Penile Oedema</th>\n",
       "      <th>Oral Lesions</th>\n",
       "      <th>Solitary Lesion</th>\n",
       "      <th>Swollen Tonsils</th>\n",
       "      <th>HIV Infection</th>\n",
       "      <th>Sexually Transmitted Infection</th>\n",
       "      <th>MonkeyPox</th>\n",
       "    </tr>\n",
       "  </thead>\n",
       "  <tbody>\n",
       "    <tr>\n",
       "      <th>0</th>\n",
       "      <td>P0</td>\n",
       "      <td>None</td>\n",
       "      <td>False</td>\n",
       "      <td>True</td>\n",
       "      <td>True</td>\n",
       "      <td>True</td>\n",
       "      <td>False</td>\n",
       "      <td>True</td>\n",
       "      <td>False</td>\n",
       "      <td>False</td>\n",
       "      <td>Negative</td>\n",
       "    </tr>\n",
       "    <tr>\n",
       "      <th>1</th>\n",
       "      <td>P1</td>\n",
       "      <td>Fever</td>\n",
       "      <td>True</td>\n",
       "      <td>False</td>\n",
       "      <td>True</td>\n",
       "      <td>True</td>\n",
       "      <td>False</td>\n",
       "      <td>False</td>\n",
       "      <td>True</td>\n",
       "      <td>False</td>\n",
       "      <td>Positive</td>\n",
       "    </tr>\n",
       "    <tr>\n",
       "      <th>2</th>\n",
       "      <td>P2</td>\n",
       "      <td>Fever</td>\n",
       "      <td>False</td>\n",
       "      <td>True</td>\n",
       "      <td>True</td>\n",
       "      <td>False</td>\n",
       "      <td>False</td>\n",
       "      <td>False</td>\n",
       "      <td>True</td>\n",
       "      <td>False</td>\n",
       "      <td>Positive</td>\n",
       "    </tr>\n",
       "    <tr>\n",
       "      <th>3</th>\n",
       "      <td>P3</td>\n",
       "      <td>None</td>\n",
       "      <td>True</td>\n",
       "      <td>False</td>\n",
       "      <td>False</td>\n",
       "      <td>False</td>\n",
       "      <td>True</td>\n",
       "      <td>True</td>\n",
       "      <td>True</td>\n",
       "      <td>False</td>\n",
       "      <td>Positive</td>\n",
       "    </tr>\n",
       "    <tr>\n",
       "      <th>4</th>\n",
       "      <td>P4</td>\n",
       "      <td>Swollen Lymph Nodes</td>\n",
       "      <td>True</td>\n",
       "      <td>True</td>\n",
       "      <td>True</td>\n",
       "      <td>False</td>\n",
       "      <td>False</td>\n",
       "      <td>True</td>\n",
       "      <td>True</td>\n",
       "      <td>False</td>\n",
       "      <td>Positive</td>\n",
       "    </tr>\n",
       "  </tbody>\n",
       "</table>\n",
       "</div>"
      ],
      "text/plain": [
       "  Patient_ID     Systemic Illness  Rectal Pain  Sore Throat  Penile Oedema  \\\n",
       "0         P0                 None        False         True           True   \n",
       "1         P1                Fever         True        False           True   \n",
       "2         P2                Fever        False         True           True   \n",
       "3         P3                 None         True        False          False   \n",
       "4         P4  Swollen Lymph Nodes         True         True           True   \n",
       "\n",
       "   Oral Lesions  Solitary Lesion  Swollen Tonsils  HIV Infection  \\\n",
       "0          True            False             True          False   \n",
       "1          True            False            False           True   \n",
       "2         False            False            False           True   \n",
       "3         False             True             True           True   \n",
       "4         False            False             True           True   \n",
       "\n",
       "   Sexually Transmitted Infection MonkeyPox  \n",
       "0                           False  Negative  \n",
       "1                           False  Positive  \n",
       "2                           False  Positive  \n",
       "3                           False  Positive  \n",
       "4                           False  Positive  "
      ]
     },
     "execution_count": 22,
     "metadata": {},
     "output_type": "execute_result"
    }
   ],
   "source": [
    "df_raw=pd.read_csv('DATA.csv')\n",
    "df=df_raw.copy()\n",
    "df.head()"
   ]
  },
  {
   "cell_type": "code",
   "execution_count": 23,
   "id": "a7697da8",
   "metadata": {
    "scrolled": true
   },
   "outputs": [
    {
     "name": "stdout",
     "output_type": "stream",
     "text": [
      "<class 'pandas.core.frame.DataFrame'>\n",
      "RangeIndex: 25000 entries, 0 to 24999\n",
      "Data columns (total 11 columns):\n",
      " #   Column                          Non-Null Count  Dtype \n",
      "---  ------                          --------------  ----- \n",
      " 0   Patient_ID                      25000 non-null  object\n",
      " 1   Systemic Illness                25000 non-null  object\n",
      " 2   Rectal Pain                     25000 non-null  bool  \n",
      " 3   Sore Throat                     25000 non-null  bool  \n",
      " 4   Penile Oedema                   25000 non-null  bool  \n",
      " 5   Oral Lesions                    25000 non-null  bool  \n",
      " 6   Solitary Lesion                 25000 non-null  bool  \n",
      " 7   Swollen Tonsils                 25000 non-null  bool  \n",
      " 8   HIV Infection                   25000 non-null  bool  \n",
      " 9   Sexually Transmitted Infection  25000 non-null  bool  \n",
      " 10  MonkeyPox                       25000 non-null  object\n",
      "dtypes: bool(8), object(3)\n",
      "memory usage: 781.4+ KB\n"
     ]
    }
   ],
   "source": [
    "df.info()"
   ]
  },
  {
   "cell_type": "code",
   "execution_count": 24,
   "id": "5806663c",
   "metadata": {},
   "outputs": [
    {
     "data": {
      "text/plain": [
       "Patient_ID                        0\n",
       "Systemic Illness                  0\n",
       "Rectal Pain                       0\n",
       "Sore Throat                       0\n",
       "Penile Oedema                     0\n",
       "Oral Lesions                      0\n",
       "Solitary Lesion                   0\n",
       "Swollen Tonsils                   0\n",
       "HIV Infection                     0\n",
       "Sexually Transmitted Infection    0\n",
       "MonkeyPox                         0\n",
       "dtype: int64"
      ]
     },
     "execution_count": 24,
     "metadata": {},
     "output_type": "execute_result"
    }
   ],
   "source": [
    "df.isna().sum()"
   ]
  },
  {
   "cell_type": "markdown",
   "id": "79fdd772",
   "metadata": {},
   "source": [
    "## Preprocessing"
   ]
  },
  {
   "cell_type": "code",
   "execution_count": 25,
   "id": "7cc47690",
   "metadata": {},
   "outputs": [],
   "source": [
    "df.drop('Patient_ID',axis=1,inplace=True)"
   ]
  },
  {
   "cell_type": "code",
   "execution_count": 26,
   "id": "2a5751b8",
   "metadata": {},
   "outputs": [
    {
     "data": {
      "text/plain": [
       "4"
      ]
     },
     "execution_count": 26,
     "metadata": {},
     "output_type": "execute_result"
    }
   ],
   "source": [
    "df['Systemic Illness'].nunique()"
   ]
  },
  {
   "cell_type": "code",
   "execution_count": 27,
   "id": "adab8c95",
   "metadata": {},
   "outputs": [
    {
     "data": {
      "text/plain": [
       "array(['None', 'Fever', 'Swollen Lymph Nodes', 'Muscle Aches and Pain'],\n",
       "      dtype=object)"
      ]
     },
     "execution_count": 27,
     "metadata": {},
     "output_type": "execute_result"
    }
   ],
   "source": [
    "df['Systemic Illness'].unique()"
   ]
  },
  {
   "cell_type": "code",
   "execution_count": 28,
   "id": "968775ad",
   "metadata": {},
   "outputs": [],
   "source": [
    "Systemic_Illness=pd.get_dummies(df['Systemic Illness'],drop_first=True)"
   ]
  },
  {
   "cell_type": "code",
   "execution_count": 29,
   "id": "d19ac88c",
   "metadata": {},
   "outputs": [],
   "source": [
    "df=pd.concat([df,Systemic_Illness],axis=1)"
   ]
  },
  {
   "cell_type": "code",
   "execution_count": 30,
   "id": "8c0d460d",
   "metadata": {
    "scrolled": true
   },
   "outputs": [
    {
     "data": {
      "text/html": [
       "<div>\n",
       "<style scoped>\n",
       "    .dataframe tbody tr th:only-of-type {\n",
       "        vertical-align: middle;\n",
       "    }\n",
       "\n",
       "    .dataframe tbody tr th {\n",
       "        vertical-align: top;\n",
       "    }\n",
       "\n",
       "    .dataframe thead th {\n",
       "        text-align: right;\n",
       "    }\n",
       "</style>\n",
       "<table border=\"1\" class=\"dataframe\">\n",
       "  <thead>\n",
       "    <tr style=\"text-align: right;\">\n",
       "      <th></th>\n",
       "      <th>Rectal Pain</th>\n",
       "      <th>Sore Throat</th>\n",
       "      <th>Penile Oedema</th>\n",
       "      <th>Oral Lesions</th>\n",
       "      <th>Solitary Lesion</th>\n",
       "      <th>Swollen Tonsils</th>\n",
       "      <th>HIV Infection</th>\n",
       "      <th>Sexually Transmitted Infection</th>\n",
       "      <th>MonkeyPox</th>\n",
       "      <th>Muscle Aches and Pain</th>\n",
       "      <th>None</th>\n",
       "      <th>Swollen Lymph Nodes</th>\n",
       "    </tr>\n",
       "  </thead>\n",
       "  <tbody>\n",
       "    <tr>\n",
       "      <th>0</th>\n",
       "      <td>False</td>\n",
       "      <td>True</td>\n",
       "      <td>True</td>\n",
       "      <td>True</td>\n",
       "      <td>False</td>\n",
       "      <td>True</td>\n",
       "      <td>False</td>\n",
       "      <td>False</td>\n",
       "      <td>Negative</td>\n",
       "      <td>0</td>\n",
       "      <td>1</td>\n",
       "      <td>0</td>\n",
       "    </tr>\n",
       "    <tr>\n",
       "      <th>1</th>\n",
       "      <td>True</td>\n",
       "      <td>False</td>\n",
       "      <td>True</td>\n",
       "      <td>True</td>\n",
       "      <td>False</td>\n",
       "      <td>False</td>\n",
       "      <td>True</td>\n",
       "      <td>False</td>\n",
       "      <td>Positive</td>\n",
       "      <td>0</td>\n",
       "      <td>0</td>\n",
       "      <td>0</td>\n",
       "    </tr>\n",
       "    <tr>\n",
       "      <th>2</th>\n",
       "      <td>False</td>\n",
       "      <td>True</td>\n",
       "      <td>True</td>\n",
       "      <td>False</td>\n",
       "      <td>False</td>\n",
       "      <td>False</td>\n",
       "      <td>True</td>\n",
       "      <td>False</td>\n",
       "      <td>Positive</td>\n",
       "      <td>0</td>\n",
       "      <td>0</td>\n",
       "      <td>0</td>\n",
       "    </tr>\n",
       "    <tr>\n",
       "      <th>3</th>\n",
       "      <td>True</td>\n",
       "      <td>False</td>\n",
       "      <td>False</td>\n",
       "      <td>False</td>\n",
       "      <td>True</td>\n",
       "      <td>True</td>\n",
       "      <td>True</td>\n",
       "      <td>False</td>\n",
       "      <td>Positive</td>\n",
       "      <td>0</td>\n",
       "      <td>1</td>\n",
       "      <td>0</td>\n",
       "    </tr>\n",
       "    <tr>\n",
       "      <th>4</th>\n",
       "      <td>True</td>\n",
       "      <td>True</td>\n",
       "      <td>True</td>\n",
       "      <td>False</td>\n",
       "      <td>False</td>\n",
       "      <td>True</td>\n",
       "      <td>True</td>\n",
       "      <td>False</td>\n",
       "      <td>Positive</td>\n",
       "      <td>0</td>\n",
       "      <td>0</td>\n",
       "      <td>1</td>\n",
       "    </tr>\n",
       "  </tbody>\n",
       "</table>\n",
       "</div>"
      ],
      "text/plain": [
       "   Rectal Pain  Sore Throat  Penile Oedema  Oral Lesions  Solitary Lesion  \\\n",
       "0        False         True           True          True            False   \n",
       "1         True        False           True          True            False   \n",
       "2        False         True           True         False            False   \n",
       "3         True        False          False         False             True   \n",
       "4         True         True           True         False            False   \n",
       "\n",
       "   Swollen Tonsils  HIV Infection  Sexually Transmitted Infection MonkeyPox  \\\n",
       "0             True          False                           False  Negative   \n",
       "1            False           True                           False  Positive   \n",
       "2            False           True                           False  Positive   \n",
       "3             True           True                           False  Positive   \n",
       "4             True           True                           False  Positive   \n",
       "\n",
       "   Muscle Aches and Pain  None  Swollen Lymph Nodes  \n",
       "0                      0     1                    0  \n",
       "1                      0     0                    0  \n",
       "2                      0     0                    0  \n",
       "3                      0     1                    0  \n",
       "4                      0     0                    1  "
      ]
     },
     "execution_count": 30,
     "metadata": {},
     "output_type": "execute_result"
    }
   ],
   "source": [
    "df.drop('Systemic Illness',axis=1,inplace=True)\n",
    "df.head()"
   ]
  },
  {
   "cell_type": "code",
   "execution_count": 31,
   "id": "c17b6a4a",
   "metadata": {
    "scrolled": true
   },
   "outputs": [
    {
     "data": {
      "text/plain": [
       "Index(['Rectal Pain', 'Sore Throat', 'Penile Oedema', 'Oral Lesions',\n",
       "       'Solitary Lesion', 'Swollen Tonsils', 'HIV Infection',\n",
       "       'Sexually Transmitted Infection', 'MonkeyPox', 'Muscle Aches and Pain',\n",
       "       'None', 'Swollen Lymph Nodes'],\n",
       "      dtype='object')"
      ]
     },
     "execution_count": 31,
     "metadata": {},
     "output_type": "execute_result"
    }
   ],
   "source": [
    "df.columns"
   ]
  },
  {
   "cell_type": "code",
   "execution_count": 32,
   "id": "73bd140f",
   "metadata": {},
   "outputs": [],
   "source": [
    "clm=['Rectal Pain', 'Sore Throat', 'Penile Oedema', 'Oral Lesions',\n",
    "       'Solitary Lesion', 'Swollen Tonsils', 'HIV Infection',\n",
    "       'Sexually Transmitted Infection']"
   ]
  },
  {
   "cell_type": "code",
   "execution_count": 34,
   "id": "d1310ad5",
   "metadata": {},
   "outputs": [],
   "source": [
    "for i in clm:\n",
    "    df[i]=df[i].map({False:0,True:1})"
   ]
  },
  {
   "cell_type": "code",
   "execution_count": 36,
   "id": "7e919dfa",
   "metadata": {},
   "outputs": [
    {
     "data": {
      "text/html": [
       "<div>\n",
       "<style scoped>\n",
       "    .dataframe tbody tr th:only-of-type {\n",
       "        vertical-align: middle;\n",
       "    }\n",
       "\n",
       "    .dataframe tbody tr th {\n",
       "        vertical-align: top;\n",
       "    }\n",
       "\n",
       "    .dataframe thead th {\n",
       "        text-align: right;\n",
       "    }\n",
       "</style>\n",
       "<table border=\"1\" class=\"dataframe\">\n",
       "  <thead>\n",
       "    <tr style=\"text-align: right;\">\n",
       "      <th></th>\n",
       "      <th>Rectal Pain</th>\n",
       "      <th>Sore Throat</th>\n",
       "      <th>Penile Oedema</th>\n",
       "      <th>Oral Lesions</th>\n",
       "      <th>Solitary Lesion</th>\n",
       "      <th>Swollen Tonsils</th>\n",
       "      <th>HIV Infection</th>\n",
       "      <th>Sexually Transmitted Infection</th>\n",
       "      <th>MonkeyPox</th>\n",
       "      <th>Muscle Aches and Pain</th>\n",
       "      <th>None</th>\n",
       "      <th>Swollen Lymph Nodes</th>\n",
       "    </tr>\n",
       "  </thead>\n",
       "  <tbody>\n",
       "    <tr>\n",
       "      <th>0</th>\n",
       "      <td>0</td>\n",
       "      <td>1</td>\n",
       "      <td>1</td>\n",
       "      <td>1</td>\n",
       "      <td>0</td>\n",
       "      <td>1</td>\n",
       "      <td>0</td>\n",
       "      <td>0</td>\n",
       "      <td>Negative</td>\n",
       "      <td>0</td>\n",
       "      <td>1</td>\n",
       "      <td>0</td>\n",
       "    </tr>\n",
       "    <tr>\n",
       "      <th>1</th>\n",
       "      <td>1</td>\n",
       "      <td>0</td>\n",
       "      <td>1</td>\n",
       "      <td>1</td>\n",
       "      <td>0</td>\n",
       "      <td>0</td>\n",
       "      <td>1</td>\n",
       "      <td>0</td>\n",
       "      <td>Positive</td>\n",
       "      <td>0</td>\n",
       "      <td>0</td>\n",
       "      <td>0</td>\n",
       "    </tr>\n",
       "    <tr>\n",
       "      <th>2</th>\n",
       "      <td>0</td>\n",
       "      <td>1</td>\n",
       "      <td>1</td>\n",
       "      <td>0</td>\n",
       "      <td>0</td>\n",
       "      <td>0</td>\n",
       "      <td>1</td>\n",
       "      <td>0</td>\n",
       "      <td>Positive</td>\n",
       "      <td>0</td>\n",
       "      <td>0</td>\n",
       "      <td>0</td>\n",
       "    </tr>\n",
       "    <tr>\n",
       "      <th>3</th>\n",
       "      <td>1</td>\n",
       "      <td>0</td>\n",
       "      <td>0</td>\n",
       "      <td>0</td>\n",
       "      <td>1</td>\n",
       "      <td>1</td>\n",
       "      <td>1</td>\n",
       "      <td>0</td>\n",
       "      <td>Positive</td>\n",
       "      <td>0</td>\n",
       "      <td>1</td>\n",
       "      <td>0</td>\n",
       "    </tr>\n",
       "    <tr>\n",
       "      <th>4</th>\n",
       "      <td>1</td>\n",
       "      <td>1</td>\n",
       "      <td>1</td>\n",
       "      <td>0</td>\n",
       "      <td>0</td>\n",
       "      <td>1</td>\n",
       "      <td>1</td>\n",
       "      <td>0</td>\n",
       "      <td>Positive</td>\n",
       "      <td>0</td>\n",
       "      <td>0</td>\n",
       "      <td>1</td>\n",
       "    </tr>\n",
       "  </tbody>\n",
       "</table>\n",
       "</div>"
      ],
      "text/plain": [
       "   Rectal Pain  Sore Throat  Penile Oedema  Oral Lesions  Solitary Lesion  \\\n",
       "0            0            1              1             1                0   \n",
       "1            1            0              1             1                0   \n",
       "2            0            1              1             0                0   \n",
       "3            1            0              0             0                1   \n",
       "4            1            1              1             0                0   \n",
       "\n",
       "   Swollen Tonsils  HIV Infection  Sexually Transmitted Infection MonkeyPox  \\\n",
       "0                1              0                               0  Negative   \n",
       "1                0              1                               0  Positive   \n",
       "2                0              1                               0  Positive   \n",
       "3                1              1                               0  Positive   \n",
       "4                1              1                               0  Positive   \n",
       "\n",
       "   Muscle Aches and Pain  None  Swollen Lymph Nodes  \n",
       "0                      0     1                    0  \n",
       "1                      0     0                    0  \n",
       "2                      0     0                    0  \n",
       "3                      0     1                    0  \n",
       "4                      0     0                    1  "
      ]
     },
     "execution_count": 36,
     "metadata": {},
     "output_type": "execute_result"
    }
   ],
   "source": [
    "df.head()"
   ]
  },
  {
   "cell_type": "code",
   "execution_count": 37,
   "id": "19f20542",
   "metadata": {},
   "outputs": [],
   "source": [
    "df['MonkeyPox']=df['MonkeyPox'].map({'Negative':0,'Positive':1})"
   ]
  },
  {
   "cell_type": "code",
   "execution_count": 39,
   "id": "e3304633",
   "metadata": {},
   "outputs": [
    {
     "data": {
      "text/html": [
       "<div>\n",
       "<style scoped>\n",
       "    .dataframe tbody tr th:only-of-type {\n",
       "        vertical-align: middle;\n",
       "    }\n",
       "\n",
       "    .dataframe tbody tr th {\n",
       "        vertical-align: top;\n",
       "    }\n",
       "\n",
       "    .dataframe thead th {\n",
       "        text-align: right;\n",
       "    }\n",
       "</style>\n",
       "<table border=\"1\" class=\"dataframe\">\n",
       "  <thead>\n",
       "    <tr style=\"text-align: right;\">\n",
       "      <th></th>\n",
       "      <th>Rectal Pain</th>\n",
       "      <th>Sore Throat</th>\n",
       "      <th>Penile Oedema</th>\n",
       "      <th>Oral Lesions</th>\n",
       "      <th>Solitary Lesion</th>\n",
       "      <th>Swollen Tonsils</th>\n",
       "      <th>HIV Infection</th>\n",
       "      <th>Sexually Transmitted Infection</th>\n",
       "      <th>MonkeyPox</th>\n",
       "      <th>Muscle Aches and Pain</th>\n",
       "      <th>None</th>\n",
       "      <th>Swollen Lymph Nodes</th>\n",
       "    </tr>\n",
       "  </thead>\n",
       "  <tbody>\n",
       "    <tr>\n",
       "      <th>0</th>\n",
       "      <td>0</td>\n",
       "      <td>1</td>\n",
       "      <td>1</td>\n",
       "      <td>1</td>\n",
       "      <td>0</td>\n",
       "      <td>1</td>\n",
       "      <td>0</td>\n",
       "      <td>0</td>\n",
       "      <td>0</td>\n",
       "      <td>0</td>\n",
       "      <td>1</td>\n",
       "      <td>0</td>\n",
       "    </tr>\n",
       "    <tr>\n",
       "      <th>1</th>\n",
       "      <td>1</td>\n",
       "      <td>0</td>\n",
       "      <td>1</td>\n",
       "      <td>1</td>\n",
       "      <td>0</td>\n",
       "      <td>0</td>\n",
       "      <td>1</td>\n",
       "      <td>0</td>\n",
       "      <td>1</td>\n",
       "      <td>0</td>\n",
       "      <td>0</td>\n",
       "      <td>0</td>\n",
       "    </tr>\n",
       "    <tr>\n",
       "      <th>2</th>\n",
       "      <td>0</td>\n",
       "      <td>1</td>\n",
       "      <td>1</td>\n",
       "      <td>0</td>\n",
       "      <td>0</td>\n",
       "      <td>0</td>\n",
       "      <td>1</td>\n",
       "      <td>0</td>\n",
       "      <td>1</td>\n",
       "      <td>0</td>\n",
       "      <td>0</td>\n",
       "      <td>0</td>\n",
       "    </tr>\n",
       "    <tr>\n",
       "      <th>3</th>\n",
       "      <td>1</td>\n",
       "      <td>0</td>\n",
       "      <td>0</td>\n",
       "      <td>0</td>\n",
       "      <td>1</td>\n",
       "      <td>1</td>\n",
       "      <td>1</td>\n",
       "      <td>0</td>\n",
       "      <td>1</td>\n",
       "      <td>0</td>\n",
       "      <td>1</td>\n",
       "      <td>0</td>\n",
       "    </tr>\n",
       "    <tr>\n",
       "      <th>4</th>\n",
       "      <td>1</td>\n",
       "      <td>1</td>\n",
       "      <td>1</td>\n",
       "      <td>0</td>\n",
       "      <td>0</td>\n",
       "      <td>1</td>\n",
       "      <td>1</td>\n",
       "      <td>0</td>\n",
       "      <td>1</td>\n",
       "      <td>0</td>\n",
       "      <td>0</td>\n",
       "      <td>1</td>\n",
       "    </tr>\n",
       "  </tbody>\n",
       "</table>\n",
       "</div>"
      ],
      "text/plain": [
       "   Rectal Pain  Sore Throat  Penile Oedema  Oral Lesions  Solitary Lesion  \\\n",
       "0            0            1              1             1                0   \n",
       "1            1            0              1             1                0   \n",
       "2            0            1              1             0                0   \n",
       "3            1            0              0             0                1   \n",
       "4            1            1              1             0                0   \n",
       "\n",
       "   Swollen Tonsils  HIV Infection  Sexually Transmitted Infection  MonkeyPox  \\\n",
       "0                1              0                               0          0   \n",
       "1                0              1                               0          1   \n",
       "2                0              1                               0          1   \n",
       "3                1              1                               0          1   \n",
       "4                1              1                               0          1   \n",
       "\n",
       "   Muscle Aches and Pain  None  Swollen Lymph Nodes  \n",
       "0                      0     1                    0  \n",
       "1                      0     0                    0  \n",
       "2                      0     0                    0  \n",
       "3                      0     1                    0  \n",
       "4                      0     0                    1  "
      ]
     },
     "execution_count": 39,
     "metadata": {},
     "output_type": "execute_result"
    }
   ],
   "source": [
    "df.head()"
   ]
  },
  {
   "cell_type": "code",
   "execution_count": 40,
   "id": "775838dd",
   "metadata": {},
   "outputs": [
    {
     "data": {
      "text/plain": [
       "<AxesSubplot:xlabel='MonkeyPox', ylabel='count'>"
      ]
     },
     "execution_count": 40,
     "metadata": {},
     "output_type": "execute_result"
    },
    {
     "data": {
      "image/png": "[encoded data removed]",
      "text/plain": [
       "<Figure size 432x288 with 1 Axes>"
      ]
     },
     "metadata": {
      "needs_background": "light"
     },
     "output_type": "display_data"
    }
   ],
   "source": [
    "sns.countplot(df['MonkeyPox'])"
   ]
  },
  {
   "cell_type": "code",
   "execution_count": 42,
   "id": "593987d0",
   "metadata": {
    "scrolled": false
   },
   "outputs": [
    {
     "data": {
      "image/png": "[encoded data removed]",
      "text/plain": [
       "<Figure size 432x288 with 1 Axes>"
      ]
     },
     "metadata": {
      "needs_background": "light"
     },
     "output_type": "display_data"
    },
    {
     "data": {
      "image/png": "[encoded data removed]",
      "text/plain": [
       "<Figure size 432x288 with 1 Axes>"
      ]
     },
     "metadata": {
      "needs_background": "light"
     },
     "output_type": "display_data"
    },
    {
     "data": {
      "image/png": "[encoded data removed]",
      "text/plain": [
       "<Figure size 432x288 with 1 Axes>"
      ]
     },
     "metadata": {
      "needs_background": "light"
     },
     "output_type": "display_data"
    },
    {
     "data": {
      "image/png": "[encoded data removed]",
      "text/plain": [
       "<Figure size 432x288 with 1 Axes>"
      ]
     },
     "metadata": {
      "needs_background": "light"
     },
     "output_type": "display_data"
    },
    {
     "data": {
      "image/png": "[encoded data removed]",
      "text/plain": [
       "<Figure size 432x288 with 1 Axes>"
      ]
     },
     "metadata": {
      "needs_background": "light"
     },
     "output_type": "display_data"
    },
    {
     "data": {
      "image/png": "[encoded data removed]",
      "text/plain": [
       "<Figure size 432x288 with 1 Axes>"
      ]
     },
     "metadata": {
      "needs_background": "light"
     },
     "output_type": "display_data"
    },
    {
     "data": {
      "image/png": "[encoded data removed]",
      "text/plain": [
       "<Figure size 432x288 with 1 Axes>"
      ]
     },
     "metadata": {
      "needs_background": "light"
     },
     "output_type": "display_data"
    },
    {
     "data": {
      "image/png": "[encoded data removed]",
      "text/plain": [
       "<Figure size 432x288 with 1 Axes>"
      ]
     },
     "metadata": {
      "needs_background": "light"
     },
     "output_type": "display_data"
    }
   ],
   "source": [
    "for i in clm:\n",
    "    sns.countplot(df[i])\n",
    "    plt.show()"
   ]
  },
  {
   "cell_type": "markdown",
   "id": "c0895879",
   "metadata": {},
   "source": [
    "## Training and Test Data"
   ]
  },
  {
   "cell_type": "code",
   "execution_count": 43,
   "id": "2fbd85a2",
   "metadata": {},
   "outputs": [],
   "source": [
    "X=df.drop('MonkeyPox',axis=1)\n",
    "y=df['MonkeyPox']"
   ]
  },
  {
   "cell_type": "code",
   "execution_count": 44,
   "id": "d1c05799",
   "metadata": {},
   "outputs": [],
   "source": [
    "from sklearn.model_selection import train_test_split"
   ]
  },
  {
   "cell_type": "code",
   "execution_count": 45,
   "id": "86a7b22c",
   "metadata": {},
   "outputs": [],
   "source": [
    "X_train, X_test, y_train, y_test = train_test_split(X, y, test_size=0.3, random_state=42)"
   ]
  },
  {
   "cell_type": "markdown",
   "id": "3f4cec34",
   "metadata": {},
   "source": [
    "## Model Preparation"
   ]
  },
  {
   "cell_type": "code",
   "execution_count": 48,
   "id": "582208da",
   "metadata": {},
   "outputs": [],
   "source": [
    "from sklearn.linear_model import LogisticRegression\n",
    "from sklearn.metrics import confusion_matrix,classification_report,roc_auc_score,accuracy_score"
   ]
  },
  {
   "cell_type": "code",
   "execution_count": 52,
   "id": "ee12fef6",
   "metadata": {},
   "outputs": [
    {
     "name": "stdout",
     "output_type": "stream",
     "text": [
      "confusion_matrix\n",
      "[[1058 1635]\n",
      " [ 650 4157]]\n",
      "\n",
      "\n",
      "classification_report\n",
      "              precision    recall  f1-score   support\n",
      "\n",
      "           0       0.62      0.39      0.48      2693\n",
      "           1       0.72      0.86      0.78      4807\n",
      "\n",
      "    accuracy                           0.70      7500\n",
      "   macro avg       0.67      0.63      0.63      7500\n",
      "weighted avg       0.68      0.70      0.68      7500\n",
      "\n",
      "\n",
      "\n",
      "Accuracy: 69.53333333333333\n",
      "\n",
      "\n",
      "ROC Value: 0.6288254665745763\n"
     ]
    }
   ],
   "source": [
    "M1=LogisticRegression()\n",
    "M1.fit(X_train,y_train)\n",
    "P1=M1.predict(X_test)\n",
    "print('confusion_matrix')\n",
    "print(confusion_matrix(y_test,P1))\n",
    "print('\\n')\n",
    "print('classification_report')\n",
    "print(classification_report(y_test,P1))\n",
    "print('\\n')\n",
    "print('Accuracy:',100*accuracy_score(y_test,P1))\n",
    "print('\\n')\n",
    "print('ROC Value:',roc_auc_score(y_test,P1))"
   ]
  },
  {
   "cell_type": "markdown",
   "id": "0cfccfdc",
   "metadata": {},
   "source": [
    "## DecisionTree"
   ]
  },
  {
   "cell_type": "code",
   "execution_count": 53,
   "id": "f9e94c37",
   "metadata": {},
   "outputs": [],
   "source": [
    "from sklearn.tree import DecisionTreeClassifier"
   ]
  },
  {
   "cell_type": "code",
   "execution_count": 54,
   "id": "ec2cbf10",
   "metadata": {},
   "outputs": [
    {
     "name": "stdout",
     "output_type": "stream",
     "text": [
      "confusion_matrix\n",
      "[[1098 1595]\n",
      " [ 794 4013]]\n",
      "\n",
      "\n",
      "classification_report\n",
      "              precision    recall  f1-score   support\n",
      "\n",
      "           0       0.58      0.41      0.48      2693\n",
      "           1       0.72      0.83      0.77      4807\n",
      "\n",
      "    accuracy                           0.68      7500\n",
      "   macro avg       0.65      0.62      0.62      7500\n",
      "weighted avg       0.67      0.68      0.67      7500\n",
      "\n",
      "\n",
      "\n",
      "Accuracy: 68.14666666666666\n",
      "\n",
      "\n",
      "ROC Value: 0.6212739714355481\n"
     ]
    }
   ],
   "source": [
    "M2=DecisionTreeClassifier()\n",
    "M2.fit(X_train,y_train)\n",
    "P2=M2.predict(X_test)\n",
    "print('confusion_matrix')\n",
    "print(confusion_matrix(y_test,P2))\n",
    "print('\\n')\n",
    "print('classification_report')\n",
    "print(classification_report(y_test,P2))\n",
    "print('\\n')\n",
    "print('Accuracy:',100*accuracy_score(y_test,P2))\n",
    "print('\\n')\n",
    "print('ROC Value:',roc_auc_score(y_test,P2))"
   ]
  },
  {
   "cell_type": "markdown",
   "id": "5cd8a2d4",
   "metadata": {},
   "source": [
    "## RandomForest"
   ]
  },
  {
   "cell_type": "code",
   "execution_count": 55,
   "id": "aa71030f",
   "metadata": {},
   "outputs": [],
   "source": [
    "from sklearn.ensemble import RandomForestClassifier"
   ]
  },
  {
   "cell_type": "code",
   "execution_count": 56,
   "id": "629acc36",
   "metadata": {},
   "outputs": [
    {
     "name": "stdout",
     "output_type": "stream",
     "text": [
      "confusion_matrix\n",
      "[[1039 1654]\n",
      " [ 739 4068]]\n",
      "\n",
      "\n",
      "classification_report\n",
      "              precision    recall  f1-score   support\n",
      "\n",
      "           0       0.58      0.39      0.46      2693\n",
      "           1       0.71      0.85      0.77      4807\n",
      "\n",
      "    accuracy                           0.68      7500\n",
      "   macro avg       0.65      0.62      0.62      7500\n",
      "weighted avg       0.67      0.68      0.66      7500\n",
      "\n",
      "\n",
      "\n",
      "Accuracy: 68.09333333333333\n",
      "\n",
      "\n",
      "ROC Value: 0.6160404692037258\n"
     ]
    }
   ],
   "source": [
    "M3=RandomForestClassifier()\n",
    "M3.fit(X_train,y_train)\n",
    "P3=M3.predict(X_test)\n",
    "print('confusion_matrix')\n",
    "print(confusion_matrix(y_test,P3))\n",
    "print('\\n')\n",
    "print('classification_report')\n",
    "print(classification_report(y_test,P3))\n",
    "print('\\n')\n",
    "print('Accuracy:',100*accuracy_score(y_test,P3))\n",
    "print('\\n')\n",
    "print('ROC Value:',roc_auc_score(y_test,P3))"
   ]
  },
  {
   "cell_type": "markdown",
   "id": "4e64c83e",
   "metadata": {},
   "source": [
    "## Support Vector"
   ]
  },
  {
   "cell_type": "code",
   "execution_count": 57,
   "id": "acac7049",
   "metadata": {},
   "outputs": [],
   "source": [
    "from sklearn.svm import SVC"
   ]
  },
  {
   "cell_type": "code",
   "execution_count": 58,
   "id": "027bd7ce",
   "metadata": {},
   "outputs": [
    {
     "name": "stdout",
     "output_type": "stream",
     "text": [
      "confusion_matrix\n",
      "[[ 896 1797]\n",
      " [ 481 4326]]\n",
      "\n",
      "\n",
      "classification_report\n",
      "              precision    recall  f1-score   support\n",
      "\n",
      "           0       0.65      0.33      0.44      2693\n",
      "           1       0.71      0.90      0.79      4807\n",
      "\n",
      "    accuracy                           0.70      7500\n",
      "   macro avg       0.68      0.62      0.62      7500\n",
      "weighted avg       0.69      0.70      0.67      7500\n",
      "\n",
      "\n",
      "\n",
      "Accuracy: 69.62666666666667\n",
      "\n",
      "\n",
      "ROC Value: 0.6163260179350714\n"
     ]
    }
   ],
   "source": [
    "M4=SVC()\n",
    "M4.fit(X_train,y_train)\n",
    "P4=M4.predict(X_test)\n",
    "print('confusion_matrix')\n",
    "print(confusion_matrix(y_test,P4))\n",
    "print('\\n')\n",
    "print('classification_report')\n",
    "print(classification_report(y_test,P4))\n",
    "print('\\n')\n",
    "print('Accuracy:',100*accuracy_score(y_test,P4))\n",
    "print('\\n')\n",
    "print('ROC Value:',roc_auc_score(y_test,P4))"
   ]
  },
  {
   "cell_type": "markdown",
   "id": "9c378cb9",
   "metadata": {},
   "source": [
    "## KNN"
   ]
  },
  {
   "cell_type": "code",
   "execution_count": 59,
   "id": "99f7a85f",
   "metadata": {},
   "outputs": [],
   "source": [
    "from sklearn.neighbors import KNeighborsClassifier"
   ]
  },
  {
   "cell_type": "code",
   "execution_count": 60,
   "id": "c15a079c",
   "metadata": {},
   "outputs": [
    {
     "data": {
      "text/plain": [
       "Text(0, 0.5, 'Error Rate')"
      ]
     },
     "execution_count": 60,
     "metadata": {},
     "output_type": "execute_result"
    },
    {
     "data": {
      "image/png": "[encoded data removed]",
      "text/plain": [
       "<Figure size 720x720 with 1 Axes>"
      ]
     },
     "metadata": {
      "needs_background": "light"
     },
     "output_type": "display_data"
    }
   ],
   "source": [
    "error_Mat=[]\n",
    "for i in range (1,50):\n",
    "    knn=KNeighborsClassifier(n_neighbors=i)\n",
    "    knn.fit(X_train,y_train)\n",
    "    predict_i=knn.predict(X_test)\n",
    "    error_Mat.append(np.mean(predict_i != y_test))\n",
    "plt.figure(figsize=(10,10))\n",
    "plt.plot(range(1,50),error_Mat,color='blue', linestyle='dashed', marker='o',\n",
    "         markerfacecolor='red', markersize=10)\n",
    "plt.title('Error Rate vs. K Value')\n",
    "plt.xlabel('K')\n",
    "plt.ylabel('Error Rate')"
   ]
  },
  {
   "cell_type": "code",
   "execution_count": 61,
   "id": "b61ccc48",
   "metadata": {},
   "outputs": [
    {
     "name": "stdout",
     "output_type": "stream",
     "text": [
      "confusion_matrix\n",
      "[[1137 1556]\n",
      " [ 866 3941]]\n",
      "\n",
      "\n",
      "classification_report\n",
      "              precision    recall  f1-score   support\n",
      "\n",
      "           0       0.57      0.42      0.48      2693\n",
      "           1       0.72      0.82      0.76      4807\n",
      "\n",
      "    accuracy                           0.68      7500\n",
      "   macro avg       0.64      0.62      0.62      7500\n",
      "weighted avg       0.66      0.68      0.66      7500\n",
      "\n",
      "\n",
      "\n",
      "Accuracy: 67.70666666666668\n",
      "\n",
      "\n",
      "ROC Value: 0.6210258881809244\n"
     ]
    }
   ],
   "source": [
    "M5=KNeighborsClassifier(n_neighbors=20)\n",
    "M5.fit(X_train,y_train)\n",
    "P5=M5.predict(X_test)\n",
    "print('confusion_matrix')\n",
    "print(confusion_matrix(y_test,P5))\n",
    "print('\\n')\n",
    "print('classification_report')\n",
    "print(classification_report(y_test,P5))\n",
    "print('\\n')\n",
    "print('Accuracy:',100*accuracy_score(y_test,P5))\n",
    "print('\\n')\n",
    "print('ROC Value:',roc_auc_score(y_test,P5))"
   ]
  },
  {
   "cell_type": "markdown",
   "id": "eec5d46a",
   "metadata": {},
   "source": [
    "## Naive_bayes"
   ]
  },
  {
   "cell_type": "code",
   "execution_count": 62,
   "id": "e4c4bcfe",
   "metadata": {},
   "outputs": [],
   "source": [
    "from sklearn.naive_bayes import GaussianNB"
   ]
  },
  {
   "cell_type": "code",
   "execution_count": 63,
   "id": "74062680",
   "metadata": {},
   "outputs": [
    {
     "name": "stdout",
     "output_type": "stream",
     "text": [
      "confusion_matrix\n",
      "[[1307 1386]\n",
      " [ 979 3828]]\n",
      "\n",
      "\n",
      "classification_report\n",
      "              precision    recall  f1-score   support\n",
      "\n",
      "           0       0.57      0.49      0.53      2693\n",
      "           1       0.73      0.80      0.76      4807\n",
      "\n",
      "    accuracy                           0.68      7500\n",
      "   macro avg       0.65      0.64      0.64      7500\n",
      "weighted avg       0.68      0.68      0.68      7500\n",
      "\n",
      "\n",
      "\n",
      "Accuracy: 68.46666666666667\n",
      "\n",
      "\n",
      "ROC Value: 0.6408355079403251\n"
     ]
    }
   ],
   "source": [
    "M6=GaussianNB()\n",
    "M6.fit(X_train,y_train)\n",
    "P6=M6.predict(X_test)\n",
    "print('confusion_matrix')\n",
    "print(confusion_matrix(y_test,P6))\n",
    "print('\\n')\n",
    "print('classification_report')\n",
    "print(classification_report(y_test,P6))\n",
    "print('\\n')\n",
    "print('Accuracy:',100*accuracy_score(y_test,P6))\n",
    "print('\\n')\n",
    "print('ROC Value:',roc_auc_score(y_test,P6))"
   ]
  },
  {
   "cell_type": "markdown",
   "id": "d6f9bfa1",
   "metadata": {},
   "source": [
    "## GradientBoostingClassifier"
   ]
  },
  {
   "cell_type": "code",
   "execution_count": 64,
   "id": "ff474967",
   "metadata": {},
   "outputs": [],
   "source": [
    "from sklearn.ensemble import GradientBoostingClassifier"
   ]
  },
  {
   "cell_type": "code",
   "execution_count": 65,
   "id": "dd3cc4b9",
   "metadata": {},
   "outputs": [
    {
     "name": "stdout",
     "output_type": "stream",
     "text": [
      "confusion_matrix\n",
      "[[1003 1690]\n",
      " [ 568 4239]]\n",
      "\n",
      "\n",
      "classification_report\n",
      "              precision    recall  f1-score   support\n",
      "\n",
      "           0       0.64      0.37      0.47      2693\n",
      "           1       0.71      0.88      0.79      4807\n",
      "\n",
      "    accuracy                           0.70      7500\n",
      "   macro avg       0.68      0.63      0.63      7500\n",
      "weighted avg       0.69      0.70      0.68      7500\n",
      "\n",
      "\n",
      "\n",
      "Accuracy: 69.89333333333333\n",
      "\n",
      "\n",
      "ROC Value: 0.6271430349245449\n"
     ]
    }
   ],
   "source": [
    "M7=GradientBoostingClassifier()\n",
    "M7.fit(X_train,y_train)\n",
    "P7=M7.predict(X_test)\n",
    "print('confusion_matrix')\n",
    "print(confusion_matrix(y_test,P7))\n",
    "print('\\n')\n",
    "print('classification_report')\n",
    "print(classification_report(y_test,P7))\n",
    "print('\\n')\n",
    "print('Accuracy:',100*accuracy_score(y_test,P7))\n",
    "print('\\n')\n",
    "print('ROC Value:',roc_auc_score(y_test,P7))"
   ]
  },
  {
   "cell_type": "markdown",
   "id": "ea7f2091",
   "metadata": {},
   "source": [
    "## HistGradientBoostingClassifier"
   ]
  },
  {
   "cell_type": "code",
   "execution_count": 66,
   "id": "3c6d9495",
   "metadata": {},
   "outputs": [],
   "source": [
    "from sklearn.ensemble import HistGradientBoostingClassifier"
   ]
  },
  {
   "cell_type": "code",
   "execution_count": 67,
   "id": "871b690d",
   "metadata": {},
   "outputs": [
    {
     "name": "stdout",
     "output_type": "stream",
     "text": [
      "confusion_matrix\n",
      "[[ 878 1815]\n",
      " [ 447 4360]]\n",
      "\n",
      "\n",
      "classification_report\n",
      "              precision    recall  f1-score   support\n",
      "\n",
      "           0       0.66      0.33      0.44      2693\n",
      "           1       0.71      0.91      0.79      4807\n",
      "\n",
      "    accuracy                           0.70      7500\n",
      "   macro avg       0.68      0.62      0.62      7500\n",
      "weighted avg       0.69      0.70      0.67      7500\n",
      "\n",
      "\n",
      "\n",
      "Accuracy: 69.84\n",
      "\n",
      "\n",
      "ROC Value: 0.6165205294204029\n"
     ]
    }
   ],
   "source": [
    "M8=HistGradientBoostingClassifier()\n",
    "M8.fit(X_train,y_train)\n",
    "P8=M8.predict(X_test)\n",
    "print('confusion_matrix')\n",
    "print(confusion_matrix(y_test,P8))\n",
    "print('\\n')\n",
    "print('classification_report')\n",
    "print(classification_report(y_test,P8))\n",
    "print('\\n')\n",
    "print('Accuracy:',100*accuracy_score(y_test,P8))\n",
    "print('\\n')\n",
    "print('ROC Value:',roc_auc_score(y_test,P8))"
   ]
  },
  {
   "cell_type": "markdown",
   "id": "4fa06364",
   "metadata": {},
   "source": [
    "## CatBoostClassifier"
   ]
  },
  {
   "cell_type": "code",
   "execution_count": 68,
   "id": "2d64788a",
   "metadata": {},
   "outputs": [],
   "source": [
    "from catboost import CatBoostClassifier"
   ]
  },
  {
   "cell_type": "code",
   "execution_count": 70,
   "id": "1f781494",
   "metadata": {},
   "outputs": [
    {
     "name": "stdout",
     "output_type": "stream",
     "text": [
      "confusion_matrix\n",
      "[[ 954 1739]\n",
      " [ 561 4246]]\n",
      "\n",
      "\n",
      "classification_report\n",
      "              precision    recall  f1-score   support\n",
      "\n",
      "           0       0.63      0.35      0.45      2693\n",
      "           1       0.71      0.88      0.79      4807\n",
      "\n",
      "    accuracy                           0.69      7500\n",
      "   macro avg       0.67      0.62      0.62      7500\n",
      "weighted avg       0.68      0.69      0.67      7500\n",
      "\n",
      "\n",
      "\n",
      "Accuracy: 69.33333333333334\n",
      "\n",
      "\n",
      "ROC Value: 0.6187734791700833\n"
     ]
    }
   ],
   "source": [
    "M9=CatBoostClassifier(verbose=0)\n",
    "M9.fit(X_train,y_train)\n",
    "P9=M9.predict(X_test)\n",
    "print('confusion_matrix')\n",
    "print(confusion_matrix(y_test,P9))\n",
    "print('\\n')\n",
    "print('classification_report')\n",
    "print(classification_report(y_test,P9))\n",
    "print('\\n')\n",
    "print('Accuracy:',100*accuracy_score(y_test,P9))\n",
    "print('\\n')\n",
    "print('ROC Value:',roc_auc_score(y_test,P9))"
   ]
  },
  {
   "cell_type": "markdown",
   "id": "fee10f40",
   "metadata": {},
   "source": [
    "## XGBClassifier"
   ]
  },
  {
   "cell_type": "code",
   "execution_count": 71,
   "id": "1019605e",
   "metadata": {},
   "outputs": [],
   "source": [
    "from xgboost import XGBClassifier"
   ]
  },
  {
   "cell_type": "code",
   "execution_count": 72,
   "id": "8088df8e",
   "metadata": {},
   "outputs": [
    {
     "name": "stdout",
     "output_type": "stream",
     "text": [
      "confusion_matrix\n",
      "[[ 949 1744]\n",
      " [ 551 4256]]\n",
      "\n",
      "\n",
      "classification_report\n",
      "              precision    recall  f1-score   support\n",
      "\n",
      "           0       0.63      0.35      0.45      2693\n",
      "           1       0.71      0.89      0.79      4807\n",
      "\n",
      "    accuracy                           0.69      7500\n",
      "   macro avg       0.67      0.62      0.62      7500\n",
      "weighted avg       0.68      0.69      0.67      7500\n",
      "\n",
      "\n",
      "\n",
      "Accuracy: 69.39999999999999\n",
      "\n",
      "\n",
      "ROC Value: 0.618885296237207\n"
     ]
    }
   ],
   "source": [
    "M10=XGBClassifier()\n",
    "M10.fit(X_train,y_train)\n",
    "P10=M10.predict(X_test)\n",
    "print('confusion_matrix')\n",
    "print(confusion_matrix(y_test,P10))\n",
    "print('\\n')\n",
    "print('classification_report')\n",
    "print(classification_report(y_test,P10))\n",
    "print('\\n')\n",
    "print('Accuracy:',100*accuracy_score(y_test,P10))\n",
    "print('\\n')\n",
    "print('ROC Value:',roc_auc_score(y_test,P10))"
   ]
  },
  {
   "cell_type": "markdown",
   "id": "c2e9f705",
   "metadata": {},
   "source": [
    "## LGBMClassifier"
   ]
  },
  {
   "cell_type": "code",
   "execution_count": 73,
   "id": "f58aabc0",
   "metadata": {},
   "outputs": [],
   "source": [
    "from lightgbm import LGBMClassifier"
   ]
  },
  {
   "cell_type": "code",
   "execution_count": 74,
   "id": "5a8eddac",
   "metadata": {},
   "outputs": [
    {
     "name": "stdout",
     "output_type": "stream",
     "text": [
      "confusion_matrix\n",
      "[[ 949 1744]\n",
      " [ 517 4290]]\n",
      "\n",
      "\n",
      "classification_report\n",
      "              precision    recall  f1-score   support\n",
      "\n",
      "           0       0.65      0.35      0.46      2693\n",
      "           1       0.71      0.89      0.79      4807\n",
      "\n",
      "    accuracy                           0.70      7500\n",
      "   macro avg       0.68      0.62      0.62      7500\n",
      "weighted avg       0.69      0.70      0.67      7500\n",
      "\n",
      "\n",
      "\n",
      "Accuracy: 69.85333333333334\n",
      "\n",
      "\n",
      "ROC Value: 0.6224218054945401\n"
     ]
    }
   ],
   "source": [
    "M11=LGBMClassifier()\n",
    "M11.fit(X_train,y_train)\n",
    "P11=M11.predict(X_test)\n",
    "print('confusion_matrix')\n",
    "print(confusion_matrix(y_test,P11))\n",
    "print('\\n')\n",
    "print('classification_report')\n",
    "print(classification_report(y_test,P11))\n",
    "print('\\n')\n",
    "print('Accuracy:',100*accuracy_score(y_test,P11))\n",
    "print('\\n')\n",
    "print('ROC Value:',roc_auc_score(y_test,P11))"
   ]
  },
  {
   "cell_type": "markdown",
   "id": "b36aa41f",
   "metadata": {},
   "source": [
    "## Neural_network"
   ]
  },
  {
   "cell_type": "code",
   "execution_count": 75,
   "id": "09ed252f",
   "metadata": {},
   "outputs": [],
   "source": [
    "from sklearn.neural_network import MLPClassifier"
   ]
  },
  {
   "cell_type": "code",
   "execution_count": 77,
   "id": "e85dda18",
   "metadata": {},
   "outputs": [
    {
     "name": "stdout",
     "output_type": "stream",
     "text": [
      "confusion_matrix\n",
      "[[ 952 1741]\n",
      " [ 545 4262]]\n",
      "\n",
      "\n",
      "classification_report\n",
      "              precision    recall  f1-score   support\n",
      "\n",
      "           0       0.64      0.35      0.45      2693\n",
      "           1       0.71      0.89      0.79      4807\n",
      "\n",
      "    accuracy                           0.70      7500\n",
      "   macro avg       0.67      0.62      0.62      7500\n",
      "weighted avg       0.68      0.70      0.67      7500\n",
      "\n",
      "\n",
      "\n",
      "Accuracy: 69.52000000000001\n",
      "\n",
      "\n",
      "ROC Value: 0.620066385734815\n"
     ]
    }
   ],
   "source": [
    "M12=MLPClassifier(hidden_layer_sizes=(500,))\n",
    "M12.fit(X_train,y_train)\n",
    "P12=M12.predict(X_test)\n",
    "print('confusion_matrix')\n",
    "print(confusion_matrix(y_test,P12))\n",
    "print('\\n')\n",
    "print('classification_report')\n",
    "print(classification_report(y_test,P12))\n",
    "print('\\n')\n",
    "print('Accuracy:',100*accuracy_score(y_test,P12))\n",
    "print('\\n')\n",
    "print('ROC Value:',roc_auc_score(y_test,P12))"
   ]
  },
  {
   "cell_type": "markdown",
   "id": "2743aa80",
   "metadata": {},
   "source": [
    "## BaggingClassifier"
   ]
  },
  {
   "cell_type": "code",
   "execution_count": 78,
   "id": "8cda37af",
   "metadata": {},
   "outputs": [],
   "source": [
    "from sklearn.ensemble import BaggingClassifier"
   ]
  },
  {
   "cell_type": "code",
   "execution_count": 79,
   "id": "e32233fe",
   "metadata": {},
   "outputs": [
    {
     "name": "stdout",
     "output_type": "stream",
     "text": [
      "confusion_matrix\n",
      "[[1003 1690]\n",
      " [ 592 4215]]\n",
      "\n",
      "\n",
      "classification_report\n",
      "              precision    recall  f1-score   support\n",
      "\n",
      "           0       0.63      0.37      0.47      2693\n",
      "           1       0.71      0.88      0.79      4807\n",
      "\n",
      "    accuracy                           0.70      7500\n",
      "   macro avg       0.67      0.62      0.63      7500\n",
      "weighted avg       0.68      0.70      0.67      7500\n",
      "\n",
      "\n",
      "\n",
      "Accuracy: 69.57333333333334\n",
      "\n",
      "\n",
      "ROC Value: 0.6246466754487805\n"
     ]
    }
   ],
   "source": [
    "M13=BaggingClassifier(base_estimator=GradientBoostingClassifier())\n",
    "M13.fit(X_train,y_train)\n",
    "P13=M13.predict(X_test)\n",
    "print('confusion_matrix')\n",
    "print(confusion_matrix(y_test,P13))\n",
    "print('\\n')\n",
    "print('classification_report')\n",
    "print(classification_report(y_test,P13))\n",
    "print('\\n')\n",
    "print('Accuracy:',100*accuracy_score(y_test,P13))\n",
    "print('\\n')\n",
    "print('ROC Value:',roc_auc_score(y_test,P13))"
   ]
  },
  {
   "cell_type": "code",
   "execution_count": 81,
   "id": "939602ce",
   "metadata": {},
   "outputs": [],
   "source": [
    "Name=['Logistic Regression','Random Forest Classifier','Decision Tree','Naive Bayes classifier', 'SVM','KNN', \n",
    "      'GBBoosting','Histogram Boosting Classifier','XGB Boosting','Light GBM',\n",
    "      'CAT Boosting','Neural_Network','Bagging_classifier']\n",
    "clfs= [LogisticRegression(),RandomForestClassifier(),DecisionTreeClassifier(),GaussianNB(),SVC(),KNeighborsClassifier(n_neighbors=3),\n",
    "      GradientBoostingClassifier(n_estimators=100, learning_rate=1.0, max_depth=1),\n",
    "       HistGradientBoostingClassifier(),XGBClassifier(),LGBMClassifier(),MLPClassifier(),\n",
    "       CatBoostClassifier(verbose=0),BaggingClassifier(base_estimator=GradientBoostingClassifier())]"
   ]
  },
  {
   "cell_type": "code",
   "execution_count": 82,
   "id": "a896ef7f",
   "metadata": {},
   "outputs": [],
   "source": [
    "results=[]\n",
    "\n",
    "for i in clfs:\n",
    "    i.fit(X_train,y_train)\n",
    "    score=roc_auc_score(y_test,i.predict(X_test))\n",
    "    results.append(score)"
   ]
  },
  {
   "cell_type": "code",
   "execution_count": 83,
   "id": "8c2255e4",
   "metadata": {},
   "outputs": [],
   "source": [
    "Score=pd.DataFrame(data=results,index=Name)\n",
    "Score.columns=['Accuracy']"
   ]
  },
  {
   "cell_type": "code",
   "execution_count": 84,
   "id": "209dcea8",
   "metadata": {},
   "outputs": [
    {
     "data": {
      "text/html": [
       "<div>\n",
       "<style scoped>\n",
       "    .dataframe tbody tr th:only-of-type {\n",
       "        vertical-align: middle;\n",
       "    }\n",
       "\n",
       "    .dataframe tbody tr th {\n",
       "        vertical-align: top;\n",
       "    }\n",
       "\n",
       "    .dataframe thead th {\n",
       "        text-align: right;\n",
       "    }\n",
       "</style>\n",
       "<table border=\"1\" class=\"dataframe\">\n",
       "  <thead>\n",
       "    <tr style=\"text-align: right;\">\n",
       "      <th></th>\n",
       "      <th>Accuracy</th>\n",
       "    </tr>\n",
       "  </thead>\n",
       "  <tbody>\n",
       "    <tr>\n",
       "      <th>Naive Bayes classifier</th>\n",
       "      <td>0.640836</td>\n",
       "    </tr>\n",
       "    <tr>\n",
       "      <th>Logistic Regression</th>\n",
       "      <td>0.628825</td>\n",
       "    </tr>\n",
       "    <tr>\n",
       "      <th>GBBoosting</th>\n",
       "      <td>0.628825</td>\n",
       "    </tr>\n",
       "    <tr>\n",
       "      <th>Bagging_classifier</th>\n",
       "      <td>0.626645</td>\n",
       "    </tr>\n",
       "    <tr>\n",
       "      <th>Light GBM</th>\n",
       "      <td>0.622422</td>\n",
       "    </tr>\n",
       "    <tr>\n",
       "      <th>Decision Tree</th>\n",
       "      <td>0.621274</td>\n",
       "    </tr>\n",
       "    <tr>\n",
       "      <th>XGB Boosting</th>\n",
       "      <td>0.618885</td>\n",
       "    </tr>\n",
       "    <tr>\n",
       "      <th>Histogram Boosting Classifier</th>\n",
       "      <td>0.618852</td>\n",
       "    </tr>\n",
       "    <tr>\n",
       "      <th>Neural_Network</th>\n",
       "      <td>0.618773</td>\n",
       "    </tr>\n",
       "    <tr>\n",
       "      <th>Random Forest Classifier</th>\n",
       "      <td>0.617989</td>\n",
       "    </tr>\n",
       "    <tr>\n",
       "      <th>CAT Boosting</th>\n",
       "      <td>0.616873</td>\n",
       "    </tr>\n",
       "    <tr>\n",
       "      <th>SVM</th>\n",
       "      <td>0.616326</td>\n",
       "    </tr>\n",
       "    <tr>\n",
       "      <th>KNN</th>\n",
       "      <td>0.582623</td>\n",
       "    </tr>\n",
       "  </tbody>\n",
       "</table>\n",
       "</div>"
      ],
      "text/plain": [
       "                               Accuracy\n",
       "Naive Bayes classifier         0.640836\n",
       "Logistic Regression            0.628825\n",
       "GBBoosting                     0.628825\n",
       "Bagging_classifier             0.626645\n",
       "Light GBM                      0.622422\n",
       "Decision Tree                  0.621274\n",
       "XGB Boosting                   0.618885\n",
       "Histogram Boosting Classifier  0.618852\n",
       "Neural_Network                 0.618773\n",
       "Random Forest Classifier       0.617989\n",
       "CAT Boosting                   0.616873\n",
       "SVM                            0.616326\n",
       "KNN                            0.582623"
      ]
     },
     "execution_count": 84,
     "metadata": {},
     "output_type": "execute_result"
    }
   ],
   "source": [
    "Score.sort_values(by='Accuracy',ascending=False)"
   ]
  }
 ],
 "metadata": {
  "kernelspec": {
   "display_name": "Python 3 (ipykernel)",
   "language": "python",
   "name": "python3"
  },
  "language_info": {
   "codemirror_mode": {
    "name": "ipython",
    "version": 3
   },
   "file_extension": ".py",
   "mimetype": "text/x-python",
   "name": "python",
   "nbconvert_exporter": "python",
   "pygments_lexer": "ipython3",
   "version": "3.9.12"
  }
 },
 "nbformat": 4,
 "nbformat_minor": 5
}
